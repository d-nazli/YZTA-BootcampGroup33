{
 "cells": [
  {
   "cell_type": "code",
   "id": "initial_id",
   "metadata": {
    "collapsed": true,
    "ExecuteTime": {
     "end_time": "2025-07-19T08:47:19.433006Z",
     "start_time": "2025-07-19T08:47:14.776514Z"
    }
   },
   "source": [
    "import pandas as pd\n",
    "import numpy as np\n",
    "import matplotlib.pyplot as plt\n",
    "import seaborn as sns\n",
    "%matplotlib inline\n",
    "\n",
    "import re\n",
    "import random\n",
    "from imblearn.over_sampling import RandomOverSampler\n",
    "from scipy.sparse import hstack  # To combine sparse matrices\n",
    "from wordcloud import WordCloud\n",
    "\n",
    "import nltk\n",
    "from nltk.tokenize import word_tokenize\n",
    "from nltk.stem import PorterStemmer\n",
    "\n",
    "from sklearn.feature_extraction.text import TfidfVectorizer\n",
    "from sklearn.model_selection import train_test_split, GridSearchCV\n",
    "from sklearn.preprocessing import LabelEncoder\n",
    "from sklearn.linear_model import LogisticRegression\n",
    "from sklearn.naive_bayes import BernoulliNB\n",
    "from sklearn.tree import DecisionTreeClassifier\n",
    "from xgboost import XGBClassifier\n",
    "from sklearn.linear_model import LinearRegression\n",
    "from sklearn.metrics import mean_squared_error, mean_absolute_error,r2_score\n",
    "\n",
    "\n",
    "from sklearn.metrics import accuracy_score, classification_report, confusion_matrix\n",
    "\n",
    "import warnings\n",
    "warnings.filterwarnings(\"ignore\")"
   ],
   "outputs": [],
   "execution_count": 1
  },
  {
   "metadata": {
    "ExecuteTime": {
     "end_time": "2025-07-19T08:47:22.739241Z",
     "start_time": "2025-07-19T08:47:22.233110Z"
    }
   },
   "cell_type": "code",
   "source": [
    "raw_data = \"..\\\\data\\\\CombinedData.csv\"\n",
    "df = pd.read_csv(raw_data)\n",
    "df.head()"
   ],
   "id": "bc3286970a73cbe0",
   "outputs": [
    {
     "data": {
      "text/plain": [
       "   Unnamed: 0                                          statement   status\n",
       "0           0                                         oh my gosh  Anxiety\n",
       "1           1  trouble sleeping, confused mind, restless hear...  Anxiety\n",
       "2           2  All wrong, back off dear, forward doubt. Stay ...  Anxiety\n",
       "3           3  I've shifted my focus to something else but I'...  Anxiety\n",
       "4           4  I'm restless and restless, it's been a month n...  Anxiety"
      ],
      "text/html": [
       "<div>\n",
       "<style scoped>\n",
       "    .dataframe tbody tr th:only-of-type {\n",
       "        vertical-align: middle;\n",
       "    }\n",
       "\n",
       "    .dataframe tbody tr th {\n",
       "        vertical-align: top;\n",
       "    }\n",
       "\n",
       "    .dataframe thead th {\n",
       "        text-align: right;\n",
       "    }\n",
       "</style>\n",
       "<table border=\"1\" class=\"dataframe\">\n",
       "  <thead>\n",
       "    <tr style=\"text-align: right;\">\n",
       "      <th></th>\n",
       "      <th>Unnamed: 0</th>\n",
       "      <th>statement</th>\n",
       "      <th>status</th>\n",
       "    </tr>\n",
       "  </thead>\n",
       "  <tbody>\n",
       "    <tr>\n",
       "      <th>0</th>\n",
       "      <td>0</td>\n",
       "      <td>oh my gosh</td>\n",
       "      <td>Anxiety</td>\n",
       "    </tr>\n",
       "    <tr>\n",
       "      <th>1</th>\n",
       "      <td>1</td>\n",
       "      <td>trouble sleeping, confused mind, restless hear...</td>\n",
       "      <td>Anxiety</td>\n",
       "    </tr>\n",
       "    <tr>\n",
       "      <th>2</th>\n",
       "      <td>2</td>\n",
       "      <td>All wrong, back off dear, forward doubt. Stay ...</td>\n",
       "      <td>Anxiety</td>\n",
       "    </tr>\n",
       "    <tr>\n",
       "      <th>3</th>\n",
       "      <td>3</td>\n",
       "      <td>I've shifted my focus to something else but I'...</td>\n",
       "      <td>Anxiety</td>\n",
       "    </tr>\n",
       "    <tr>\n",
       "      <th>4</th>\n",
       "      <td>4</td>\n",
       "      <td>I'm restless and restless, it's been a month n...</td>\n",
       "      <td>Anxiety</td>\n",
       "    </tr>\n",
       "  </tbody>\n",
       "</table>\n",
       "</div>"
      ]
     },
     "execution_count": 2,
     "metadata": {},
     "output_type": "execute_result"
    }
   ],
   "execution_count": 2
  },
  {
   "metadata": {
    "ExecuteTime": {
     "end_time": "2025-07-19T08:47:45.913903Z",
     "start_time": "2025-07-19T08:47:45.881973Z"
    }
   },
   "cell_type": "code",
   "source": "df.describe()",
   "id": "d8a055c3c10ac790",
   "outputs": [
    {
     "data": {
      "text/plain": [
       "         Unnamed: 0\n",
       "count  53043.000000\n",
       "mean   26521.000000\n",
       "std    15312.339501\n",
       "min        0.000000\n",
       "25%    13260.500000\n",
       "50%    26521.000000\n",
       "75%    39781.500000\n",
       "max    53042.000000"
      ],
      "text/html": [
       "<div>\n",
       "<style scoped>\n",
       "    .dataframe tbody tr th:only-of-type {\n",
       "        vertical-align: middle;\n",
       "    }\n",
       "\n",
       "    .dataframe tbody tr th {\n",
       "        vertical-align: top;\n",
       "    }\n",
       "\n",
       "    .dataframe thead th {\n",
       "        text-align: right;\n",
       "    }\n",
       "</style>\n",
       "<table border=\"1\" class=\"dataframe\">\n",
       "  <thead>\n",
       "    <tr style=\"text-align: right;\">\n",
       "      <th></th>\n",
       "      <th>Unnamed: 0</th>\n",
       "    </tr>\n",
       "  </thead>\n",
       "  <tbody>\n",
       "    <tr>\n",
       "      <th>count</th>\n",
       "      <td>53043.000000</td>\n",
       "    </tr>\n",
       "    <tr>\n",
       "      <th>mean</th>\n",
       "      <td>26521.000000</td>\n",
       "    </tr>\n",
       "    <tr>\n",
       "      <th>std</th>\n",
       "      <td>15312.339501</td>\n",
       "    </tr>\n",
       "    <tr>\n",
       "      <th>min</th>\n",
       "      <td>0.000000</td>\n",
       "    </tr>\n",
       "    <tr>\n",
       "      <th>25%</th>\n",
       "      <td>13260.500000</td>\n",
       "    </tr>\n",
       "    <tr>\n",
       "      <th>50%</th>\n",
       "      <td>26521.000000</td>\n",
       "    </tr>\n",
       "    <tr>\n",
       "      <th>75%</th>\n",
       "      <td>39781.500000</td>\n",
       "    </tr>\n",
       "    <tr>\n",
       "      <th>max</th>\n",
       "      <td>53042.000000</td>\n",
       "    </tr>\n",
       "  </tbody>\n",
       "</table>\n",
       "</div>"
      ]
     },
     "execution_count": 3,
     "metadata": {},
     "output_type": "execute_result"
    }
   ],
   "execution_count": 3
  },
  {
   "metadata": {
    "ExecuteTime": {
     "end_time": "2025-07-19T08:47:52.325997Z",
     "start_time": "2025-07-19T08:47:52.279338Z"
    }
   },
   "cell_type": "code",
   "source": "df.info()",
   "id": "3732d861a55c8f00",
   "outputs": [
    {
     "name": "stdout",
     "output_type": "stream",
     "text": [
      "<class 'pandas.core.frame.DataFrame'>\n",
      "RangeIndex: 53043 entries, 0 to 53042\n",
      "Data columns (total 3 columns):\n",
      " #   Column      Non-Null Count  Dtype \n",
      "---  ------      --------------  ----- \n",
      " 0   Unnamed: 0  53043 non-null  int64 \n",
      " 1   statement   52681 non-null  object\n",
      " 2   status      53043 non-null  object\n",
      "dtypes: int64(1), object(2)\n",
      "memory usage: 1.2+ MB\n"
     ]
    }
   ],
   "execution_count": 4
  },
  {
   "metadata": {
    "ExecuteTime": {
     "end_time": "2025-07-19T08:47:57.873653Z",
     "start_time": "2025-07-19T08:47:57.848638Z"
    }
   },
   "cell_type": "code",
   "source": "df.isna().sum()",
   "id": "7b9771ebcaf8bfc9",
   "outputs": [
    {
     "data": {
      "text/plain": [
       "Unnamed: 0      0\n",
       "statement     362\n",
       "status          0\n",
       "dtype: int64"
      ]
     },
     "execution_count": 5,
     "metadata": {},
     "output_type": "execute_result"
    }
   ],
   "execution_count": 5
  },
  {
   "metadata": {
    "ExecuteTime": {
     "end_time": "2025-07-19T08:48:03.333268Z",
     "start_time": "2025-07-19T08:48:03.283402Z"
    }
   },
   "cell_type": "code",
   "source": [
    "df.dropna(inplace = True)\n",
    "df.isna().sum()"
   ],
   "id": "9c1ddb6ecbffcb46",
   "outputs": [
    {
     "data": {
      "text/plain": [
       "Unnamed: 0    0\n",
       "statement     0\n",
       "status        0\n",
       "dtype: int64"
      ]
     },
     "execution_count": 6,
     "metadata": {},
     "output_type": "execute_result"
    }
   ],
   "execution_count": 6
  },
  {
   "metadata": {
    "ExecuteTime": {
     "end_time": "2025-07-19T08:48:10.417242Z",
     "start_time": "2025-07-19T08:48:10.400962Z"
    }
   },
   "cell_type": "code",
   "source": "df.status.value_counts()",
   "id": "5d87adc633d955f3",
   "outputs": [
    {
     "data": {
      "text/plain": [
       "status\n",
       "Normal                  16343\n",
       "Depression              15404\n",
       "Suicidal                10652\n",
       "Anxiety                  3841\n",
       "Bipolar                  2777\n",
       "Stress                   2587\n",
       "Personality disorder     1077\n",
       "Name: count, dtype: int64"
      ]
     },
     "execution_count": 7,
     "metadata": {},
     "output_type": "execute_result"
    }
   ],
   "execution_count": 7
  },
  {
   "metadata": {
    "ExecuteTime": {
     "end_time": "2025-07-19T08:48:19.832239Z",
     "start_time": "2025-07-19T08:48:19.391081Z"
    }
   },
   "cell_type": "code",
   "source": [
    "# Count the occurrences of each category\n",
    "status_counts = df['status'].value_counts()\n",
    "\n",
    "# Define colors for each category (7 colors)\n",
    "colors = ['#419D78', '#E0A458', '#2D3047', '#FFDBB5', '#C04ABC', '#B3CDE0', '#D0D0D0']\n",
    "\n",
    "# Create the pie chart\n",
    "plt.figure(figsize=(7, 7))\n",
    "plt.pie(status_counts, labels=status_counts.index, autopct='%1.1f%%',\n",
    "        startangle=140, colors=colors, shadow=True)\n",
    "\n",
    "plt.title('Distribution of Mental Health Conditions')\n",
    "plt.axis('equal')  # Equal aspect ratio ensures that the pie is drawn as a circle.\n",
    "\n",
    "# Display the chart\n",
    "plt.tight_layout()\n",
    "plt.show()"
   ],
   "id": "912b612188bc64cd",
   "outputs": [
    {
     "data": {
      "text/plain": [
       "<Figure size 700x700 with 1 Axes>"
      ],
      "image/png": "[encoded data removed]"
     },
     "metadata": {},
     "output_type": "display_data"
    }
   ],
   "execution_count": 8
  },
  {
   "metadata": {
    "ExecuteTime": {
     "end_time": "2025-07-19T08:48:33.248064Z",
     "start_time": "2025-07-19T08:48:33.205427Z"
    }
   },
   "cell_type": "code",
   "source": [
    "# Group by status and get a random statement from each group\n",
    "random_statements = df.groupby('status')['statement'].apply(lambda x: x.sample(n=1).iloc[0])\n",
    "\n",
    "# Print the results\n",
    "for status, statement in random_statements.items():\n",
    "    print(f\"Status: {status}\")\n",
    "    print(f\"Statement: {statement}\\n\")"
   ],
   "id": "ea61bc762f9803f0",
   "outputs": [
    {
     "name": "stdout",
     "output_type": "stream",
     "text": [
      "Status: Anxiety\n",
      "Statement: Evening HA into sleepless night Around 8pm I had that familiar chest pain. A deep burning ache on the right side of my chest. I had a crappy nights sleep the night  before, approx 4 hours, and was so tired all day. But with the anxiety tonight, every time I would start to fall asleep I would wake up suddenly. Jolted wide awake. I’ve watched QVC, twitch streams, parks and rec. I’ve done calm.com, YouTube sleep hypnosis and chatted on Pacifica. I’ve read my book and meditated. Nothing helped tonight and I’ve literally slept zero minutes. My alarm will go off in one hour and I’m horrified about what tomorrow will be like. \n",
      "\n",
      "I have four children who need rides starting at 7am and ending at 8:30pm. I have a job where I have responsibilities to my coworkers. \n",
      "\n",
      "Please tell me that I’m going to be alright. Sorry to whine I’m just really discouraged.\n",
      "\n",
      "Status: Bipolar\n",
      "Statement: Insecure in relationship - TW: suicide I had a serious suicide attempt a few days ago where my bf had to call an ambulance and I was in the ICU for a couple of days. My bf had already been through one (minor) attempt with me 6 months ago. He was really upset this time and told me that if I have another attempt he won’t be sticking around, it has to stop, it’s too much for him. He also said I can’t self harm anymore or the relationship will be done. We’ve talked about getting engaged before, and he says he will need to see me 100% clean for a while before considering marriage now as he doesn’t want to have to get a divorce if I relapse—he is full on serious about this ultimatum.\n",
      "\n",
      "I’ve never felt insecure in our relationship until now. I feel threatened, I can’t guarantee that I won’t have another attempt or self harm relapse for the rest of my life. He is the sweetest, most supportive, loving and caring bf I have ever had and I want spend the rest of my life with him, but now I feel like it’s inevitable that I will lose him. I feel heartbroken already. I’m scared of losing my person.\n",
      "\n",
      "Any advice or words of comfort are welcome. I just needed to get this off my chest.\n",
      "\n",
      "Status: Depression\n",
      "Statement: As soon as people find out my Im depressed, why do they keep nagging me to “smile”?? Is it just to make them feel more comfortable? Because it makes me feel 10x shittier. I’m not a circus animal fuck off. 🙄\n",
      "\n",
      "Status: Normal\n",
      "Statement: im just a little bit bored down here in warrnambool only so many animal docos you can handle\n",
      "\n",
      "Status: Personality disorder\n",
      "Statement: Do you think someone with avpd have a chance in the music industry? So it’s been getting harder for me to keep a job. I’m still trying as hard as I can, I don’t wanna been seen as weak for not being able to keep a job. But it’s 2 things I do very well and that’s sing, and make beats . Do you think someone with avpd have a chance in the music industry? If I do the singing I know my anxiety would be crazy if I had to perform but I really have a passion for singing.\n",
      "\n",
      "Status: Stress\n",
      "Statement: https://onlinemkt.org/stress-and-alcohol/ Alcohol should not be used on all occasions to have fun. You must be able to relax and have fun without drinking. #stress #alcohol \n",
      "\n",
      "https://onlinemkt.org/stress-and-alcohol/\n",
      "\n",
      "Status: Suicidal\n",
      "Statement: I am sobbing while I write this post. I do not think I am in extremely imminent danger so I am probably not a super high priority, but if even one person could help that would mean the world to me. I never thought I would have to post on a subreddit like this. But I have had suicidal thoughts on and off for years, and it keeps threatening to culminate. Tonight has been one of the worst nights. I will try and keep my reasons quick, as I do not know if I even deserve to complain. I was born into a fairly okay situation, middle class, mostly okay family, things like that, so why am I sad? Well, I have lots of mental health issues that at least noticeably impact my \"normal\" human function, and on top of that some of my family often calls me useless because of the way they affect me. I am already in my mid 20s with a niche associate's degree my only accomplishment, I cannot find work to even be like, a cashier or something, I still live at home. No one wants me, not a job, not certain family, including my mom and sister who are the ones to call me useless. To top it all off, my dog is one of the only things that keeps me in it all the time, and now those two are threatening to get rid of her because I am almost out of money, and they think I will not be able to care for her anymore, when I would do anything to care for her, no matter how I have to get money. I need her. I have a very small bit saved up and it is all going to her while I still look for work. So tonight I picked up a knife, thought about how to do it, and... I just cannot seem to follow through. what is wrong with me? I cannot even end it right. So why am I posting at all? Because the thoughts have gotten stronger and stronger over the years, a combo of an anti depressant and therapy is not helping enough, and I feel like something is about to push me over the edge. Losing my dog I am sure would. I need help, please... I just cannot do it...\n",
      "\n"
     ]
    }
   ],
   "execution_count": 9
  },
  {
   "metadata": {
    "ExecuteTime": {
     "end_time": "2025-07-19T08:48:51.676992Z",
     "start_time": "2025-07-19T08:48:43.763849Z"
    }
   },
   "cell_type": "code",
   "source": [
    "# Calculate the number of characters and sentences\n",
    "df['num_of_characters'] = df['statement'].str.len()\n",
    "df['num_of_sentences'] = df['statement'].apply(lambda x: len(nltk.sent_tokenize(x)))\n",
    "\n",
    "# Generate descriptive statistics\n",
    "description = df[['num_of_characters', 'num_of_sentences']].describe()\n",
    "\n",
    "# Display the descriptive statistics\n",
    "print(description)"
   ],
   "id": "3378ad11c5387279",
   "outputs": [
    {
     "name": "stdout",
     "output_type": "stream",
     "text": [
      "       num_of_characters  num_of_sentences\n",
      "count       52681.000000      52681.000000\n",
      "mean          578.713863          6.280215\n",
      "std           846.269078         10.688388\n",
      "min             2.000000          1.000000\n",
      "25%            80.000000          1.000000\n",
      "50%           317.000000          3.000000\n",
      "75%           752.000000          8.000000\n",
      "max         32759.000000       1260.000000\n"
     ]
    }
   ],
   "execution_count": 10
  },
  {
   "metadata": {
    "ExecuteTime": {
     "end_time": "2025-07-19T08:50:01.571525Z",
     "start_time": "2025-07-19T08:50:01.551821Z"
    }
   },
   "cell_type": "code",
   "source": "df[df['num_of_characters'] > 10000]",
   "id": "1241c90e4abacae3",
   "outputs": [
    {
     "data": {
      "text/plain": [
       "       Unnamed: 0                                          statement  \\\n",
       "7851         7851  So introduction I guess.. my name is Michael a...   \n",
       "9416         9416  AAAAAAAAAAAAAAAAAAAAAAAAAAAAAAAAAAAAAAAAAAAAAA...   \n",
       "9504         9504  Hello everyone,I rarely post on Reddit but.......   \n",
       "10834       10834  I have only 1 person I can somewhat open to bu...   \n",
       "11537       11537  The title is not meant to discourage others, b...   \n",
       "11581       11581  I no longer know what else to do but write thi...   \n",
       "11636       11636  And has life gotten better?&amp;#x200B;No. Eve...   \n",
       "11831       11831  Sorry this is long but I doubt anyone will eve...   \n",
       "13293       13293  I cannot TAKE IT ANYMORE. I cannot TAKE IT ANY...   \n",
       "18215       18215  I am someone living in Turkey. My age is proba...   \n",
       "21396       21396  will i ever be noticed? is my life worth anyth...   \n",
       "21858       21858  I constantly repeat to myself that I have neve...   \n",
       "22243       22243  I do not expect anyone to read this rambly mes...   \n",
       "22563       22563  I have been thinking about posting online for ...   \n",
       "23820       23820  I need support or encouragement. I (29M) reall...   \n",
       "23845       23845  This is a a vent. I (29M) really do not know w...   \n",
       "39752       39752  it doesn t matter anymore i m going to copy an...   \n",
       "46660       46660  DEPRESSION HAS A PURPOSE: HOW TO USE IT RIGHT ...   \n",
       "51396       51396  Please help me understand what I went through ...   \n",
       "\n",
       "                     status  num_of_characters  num_of_sentences  \n",
       "7851             Depression              10679               136  \n",
       "9416               Suicidal              25302                 1  \n",
       "9504             Depression              11163               139  \n",
       "10834              Suicidal              27390               237  \n",
       "11537            Depression              12304               155  \n",
       "11581            Depression              13530               140  \n",
       "11636            Depression              12819                96  \n",
       "11831            Depression              11122               155  \n",
       "13293              Suicidal              32759              1260  \n",
       "18215              Suicidal              10219               180  \n",
       "21396            Depression              12298               160  \n",
       "21858            Depression              13054               149  \n",
       "22243              Suicidal              12227               118  \n",
       "22563              Suicidal              12028               132  \n",
       "23820            Depression              11111               127  \n",
       "23845              Suicidal              11075               133  \n",
       "39752            Depression              19822                 1  \n",
       "46660               Bipolar              26163               430  \n",
       "51396  Personality disorder              27588               374  "
      ],
      "text/html": [
       "<div>\n",
       "<style scoped>\n",
       "    .dataframe tbody tr th:only-of-type {\n",
       "        vertical-align: middle;\n",
       "    }\n",
       "\n",
       "    .dataframe tbody tr th {\n",
       "        vertical-align: top;\n",
       "    }\n",
       "\n",
       "    .dataframe thead th {\n",
       "        text-align: right;\n",
       "    }\n",
       "</style>\n",
       "<table border=\"1\" class=\"dataframe\">\n",
       "  <thead>\n",
       "    <tr style=\"text-align: right;\">\n",
       "      <th></th>\n",
       "      <th>Unnamed: 0</th>\n",
       "      <th>statement</th>\n",
       "      <th>status</th>\n",
       "      <th>num_of_characters</th>\n",
       "      <th>num_of_sentences</th>\n",
       "    </tr>\n",
       "  </thead>\n",
       "  <tbody>\n",
       "    <tr>\n",
       "      <th>7851</th>\n",
       "      <td>7851</td>\n",
       "      <td>So introduction I guess.. my name is Michael a...</td>\n",
       "      <td>Depression</td>\n",
       "      <td>10679</td>\n",
       "      <td>136</td>\n",
       "    </tr>\n",
       "    <tr>\n",
       "      <th>9416</th>\n",
       "      <td>9416</td>\n",
       "      <td>AAAAAAAAAAAAAAAAAAAAAAAAAAAAAAAAAAAAAAAAAAAAAA...</td>\n",
       "      <td>Suicidal</td>\n",
       "      <td>25302</td>\n",
       "      <td>1</td>\n",
       "    </tr>\n",
       "    <tr>\n",
       "      <th>9504</th>\n",
       "      <td>9504</td>\n",
       "      <td>Hello everyone,I rarely post on Reddit but.......</td>\n",
       "      <td>Depression</td>\n",
       "      <td>11163</td>\n",
       "      <td>139</td>\n",
       "    </tr>\n",
       "    <tr>\n",
       "      <th>10834</th>\n",
       "      <td>10834</td>\n",
       "      <td>I have only 1 person I can somewhat open to bu...</td>\n",
       "      <td>Suicidal</td>\n",
       "      <td>27390</td>\n",
       "      <td>237</td>\n",
       "    </tr>\n",
       "    <tr>\n",
       "      <th>11537</th>\n",
       "      <td>11537</td>\n",
       "      <td>The title is not meant to discourage others, b...</td>\n",
       "      <td>Depression</td>\n",
       "      <td>12304</td>\n",
       "      <td>155</td>\n",
       "    </tr>\n",
       "    <tr>\n",
       "      <th>11581</th>\n",
       "      <td>11581</td>\n",
       "      <td>I no longer know what else to do but write thi...</td>\n",
       "      <td>Depression</td>\n",
       "      <td>13530</td>\n",
       "      <td>140</td>\n",
       "    </tr>\n",
       "    <tr>\n",
       "      <th>11636</th>\n",
       "      <td>11636</td>\n",
       "      <td>And has life gotten better?&amp;amp;#x200B;No. Eve...</td>\n",
       "      <td>Depression</td>\n",
       "      <td>12819</td>\n",
       "      <td>96</td>\n",
       "    </tr>\n",
       "    <tr>\n",
       "      <th>11831</th>\n",
       "      <td>11831</td>\n",
       "      <td>Sorry this is long but I doubt anyone will eve...</td>\n",
       "      <td>Depression</td>\n",
       "      <td>11122</td>\n",
       "      <td>155</td>\n",
       "    </tr>\n",
       "    <tr>\n",
       "      <th>13293</th>\n",
       "      <td>13293</td>\n",
       "      <td>I cannot TAKE IT ANYMORE. I cannot TAKE IT ANY...</td>\n",
       "      <td>Suicidal</td>\n",
       "      <td>32759</td>\n",
       "      <td>1260</td>\n",
       "    </tr>\n",
       "    <tr>\n",
       "      <th>18215</th>\n",
       "      <td>18215</td>\n",
       "      <td>I am someone living in Turkey. My age is proba...</td>\n",
       "      <td>Suicidal</td>\n",
       "      <td>10219</td>\n",
       "      <td>180</td>\n",
       "    </tr>\n",
       "    <tr>\n",
       "      <th>21396</th>\n",
       "      <td>21396</td>\n",
       "      <td>will i ever be noticed? is my life worth anyth...</td>\n",
       "      <td>Depression</td>\n",
       "      <td>12298</td>\n",
       "      <td>160</td>\n",
       "    </tr>\n",
       "    <tr>\n",
       "      <th>21858</th>\n",
       "      <td>21858</td>\n",
       "      <td>I constantly repeat to myself that I have neve...</td>\n",
       "      <td>Depression</td>\n",
       "      <td>13054</td>\n",
       "      <td>149</td>\n",
       "    </tr>\n",
       "    <tr>\n",
       "      <th>22243</th>\n",
       "      <td>22243</td>\n",
       "      <td>I do not expect anyone to read this rambly mes...</td>\n",
       "      <td>Suicidal</td>\n",
       "      <td>12227</td>\n",
       "      <td>118</td>\n",
       "    </tr>\n",
       "    <tr>\n",
       "      <th>22563</th>\n",
       "      <td>22563</td>\n",
       "      <td>I have been thinking about posting online for ...</td>\n",
       "      <td>Suicidal</td>\n",
       "      <td>12028</td>\n",
       "      <td>132</td>\n",
       "    </tr>\n",
       "    <tr>\n",
       "      <th>23820</th>\n",
       "      <td>23820</td>\n",
       "      <td>I need support or encouragement. I (29M) reall...</td>\n",
       "      <td>Depression</td>\n",
       "      <td>11111</td>\n",
       "      <td>127</td>\n",
       "    </tr>\n",
       "    <tr>\n",
       "      <th>23845</th>\n",
       "      <td>23845</td>\n",
       "      <td>This is a a vent. I (29M) really do not know w...</td>\n",
       "      <td>Suicidal</td>\n",
       "      <td>11075</td>\n",
       "      <td>133</td>\n",
       "    </tr>\n",
       "    <tr>\n",
       "      <th>39752</th>\n",
       "      <td>39752</td>\n",
       "      <td>it doesn t matter anymore i m going to copy an...</td>\n",
       "      <td>Depression</td>\n",
       "      <td>19822</td>\n",
       "      <td>1</td>\n",
       "    </tr>\n",
       "    <tr>\n",
       "      <th>46660</th>\n",
       "      <td>46660</td>\n",
       "      <td>DEPRESSION HAS A PURPOSE: HOW TO USE IT RIGHT ...</td>\n",
       "      <td>Bipolar</td>\n",
       "      <td>26163</td>\n",
       "      <td>430</td>\n",
       "    </tr>\n",
       "    <tr>\n",
       "      <th>51396</th>\n",
       "      <td>51396</td>\n",
       "      <td>Please help me understand what I went through ...</td>\n",
       "      <td>Personality disorder</td>\n",
       "      <td>27588</td>\n",
       "      <td>374</td>\n",
       "    </tr>\n",
       "  </tbody>\n",
       "</table>\n",
       "</div>"
      ]
     },
     "execution_count": 11,
     "metadata": {},
     "output_type": "execute_result"
    }
   ],
   "execution_count": 11
  },
  {
   "metadata": {},
   "cell_type": "code",
   "outputs": [],
   "execution_count": null,
   "source": "",
   "id": "5f903151e050d0d7"
  }
 ],
 "metadata": {
  "kernelspec": {
   "display_name": "Python 3",
   "language": "python",
   "name": "python3"
  },
  "language_info": {
   "codemirror_mode": {
    "name": "ipython",
    "version": 2
   },
   "file_extension": ".py",
   "mimetype": "text/x-python",
   "name": "python",
   "nbconvert_exporter": "python",
   "pygments_lexer": "ipython2",
   "version": "2.7.6"
  }
 },
 "nbformat": 4,
 "nbformat_minor": 5
}
